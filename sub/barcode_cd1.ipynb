{
 "cells": [
  {
   "cell_type": "code",
   "execution_count": 5,
   "metadata": {},
   "outputs": [
    {
     "name": "stdout",
     "output_type": "stream",
     "text": [
      "Downloading data from https://github.com/kairess/qrcode_barcode_detection/raw/master/img/bh.jpg\n",
      "57344/50176 [==================================] - 0s 1us/step\n",
      "http://bbanghyong\n",
      "QRCODE\n"
     ]
    },
    {
     "data": {
      "text/plain": [
       "<matplotlib.image.AxesImage at 0x24e091c3608>"
      ]
     },
     "execution_count": 5,
     "metadata": {},
     "output_type": "execute_result"
    },
    {
     "data": {
      "image/png": "[encoded data removed]",
      "text/plain": [
       "<Figure size 432x288 with 1 Axes>"
      ]
     },
     "metadata": {
      "needs_background": "light"
     },
     "output_type": "display_data"
    }
   ],
   "source": [
    "import pyzbar.pyzbar as pyzbar\n",
    "import cv2\n",
    "import matplotlib.pyplot as plt\n",
    "\n",
    "#img = cv2.imread('img/bh_bar.jpg')\n",
    "import tensorflow as tf\n",
    "#file_path = tf.keras.utils.get_file('youtube.jpg', 'https://github.com/kairess/qrcode_barcode_detection/raw/master/img/bh_bar.jpg')\n",
    "file_path = tf.keras.utils.get_file('bh.jpg', 'https://github.com/kairess/qrcode_barcode_detection/raw/master/img/bh.jpg')\n",
    "img = cv2.imread(file_path)\n",
    "\n",
    "plt.imshow(img)\n",
    "\n",
    "gray = cv2.cvtColor(img, cv2.COLOR_BGR2GRAY)\n",
    "\n",
    "plt.imshow(gray, cmap='gray')\n",
    "\n",
    "decoded = pyzbar.decode(gray)\n",
    "\n",
    "decoded #[Decoded(data=b'bbanghyong', type='CODE128', rect=Rect(left=19, top=10, width=140, height=17), polygon=[Point(x=19, y=11), Point(x=19, y=27), Point(x=159, y=26), Point(x=159, y=10)])]\n",
    "\n",
    "for d in decoded:\n",
    "    print(d.data.decode('utf-8'))\n",
    "    print(d.type)\n",
    "\n",
    "    cv2.rectangle(img, (d.rect[0], d.rect[1]), (d.rect[0] + d.rect[2], d.rect[1] + d.rect[3]), (0, 0, 255), 2)\n",
    "\n",
    "plt.imshow(img)"
   ]
  },
  {
   "cell_type": "code",
   "execution_count": null,
   "metadata": {},
   "outputs": [],
   "source": []
  }
 ],
 "metadata": {
  "kernelspec": {
   "display_name": "Python 3",
   "language": "python",
   "name": "python3"
  },
  "language_info": {
   "codemirror_mode": {
    "name": "ipython",
    "version": 3
   },
   "file_extension": ".py",
   "mimetype": "text/x-python",
   "name": "python",
   "nbconvert_exporter": "python",
   "pygments_lexer": "ipython3",
   "version": "3.7.7"
  }
 },
 "nbformat": 4,
 "nbformat_minor": 4
}
