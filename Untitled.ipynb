{
 "cells": [
  {
   "cell_type": "code",
   "execution_count": 2,
   "metadata": {
    "scrolled": true
   },
   "outputs": [
    {
     "name": "stdout",
     "output_type": "stream",
     "text": [
      "Requirement already satisfied: pyzbar in c:\\anaconda\\envs\\new_env\\lib\\site-packages (0.1.8)\n"
     ]
    },
    {
     "name": "stderr",
     "output_type": "stream",
     "text": [
      "Error processing line 1 of C:\\anaconda\\envs\\new_env\\lib\\site-packages\\matplotlib-3.3.1-py3.7-nspkg.pth:\n",
      "\n",
      "  Traceback (most recent call last):\n",
      "    File \"C:\\anaconda\\envs\\new_env\\lib\\site.py\", line 168, in addpackage\n",
      "      exec(line)\n",
      "    File \"<string>\", line 1, in <module>\n",
      "    File \"<frozen importlib._bootstrap>\", line 580, in module_from_spec\n",
      "  AttributeError: 'NoneType' object has no attribute 'loader'\n",
      "\n",
      "Remainder of file ignored\n"
     ]
    },
    {
     "name": "stdout",
     "output_type": "stream",
     "text": [
      "Requirement already satisfied: matplotlib in c:\\anaconda\\envs\\new_env\\lib\\site-packages (3.3.1)"
     ]
    },
    {
     "name": "stderr",
     "output_type": "stream",
     "text": [
      "Error processing line 1 of C:\\anaconda\\envs\\new_env\\lib\\site-packages\\matplotlib-3.3.1-py3.7-nspkg.pth:\n",
      "\n",
      "  Traceback (most recent call last):\n",
      "    File \"C:\\anaconda\\envs\\new_env\\lib\\site.py\", line 168, in addpackage\n",
      "      exec(line)\n",
      "    File \"<string>\", line 1, in <module>\n",
      "    File \"<frozen importlib._bootstrap>\", line 580, in module_from_spec\n",
      "  AttributeError: 'NoneType' object has no attribute 'loader'\n",
      "\n",
      "Remainder of file ignored\n"
     ]
    },
    {
     "name": "stdout",
     "output_type": "stream",
     "text": [
      "\n",
      "Requirement already satisfied: certifi>=2020.06.20 in c:\\anaconda\\envs\\new_env\\lib\\site-packages (from matplotlib) (2020.6.20)\n",
      "Requirement already satisfied: kiwisolver>=1.0.1 in c:\\anaconda\\envs\\new_env\\lib\\site-packages (from matplotlib) (1.2.0)\n",
      "Requirement already satisfied: pyparsing!=2.0.4,!=2.1.2,!=2.1.6,>=2.0.3 in c:\\anaconda\\envs\\new_env\\lib\\site-packages (from matplotlib) (2.4.7)\n",
      "Requirement already satisfied: numpy>=1.15 in c:\\anaconda\\envs\\new_env\\lib\\site-packages (from matplotlib) (1.19.1)\n",
      "Requirement already satisfied: python-dateutil>=2.1 in c:\\anaconda\\envs\\new_env\\lib\\site-packages (from matplotlib) (2.8.1)\n",
      "Requirement already satisfied: pillow>=6.2.0 in c:\\anaconda\\envs\\new_env\\lib\\site-packages (from matplotlib) (7.2.0)\n",
      "Requirement already satisfied: cycler>=0.10 in c:\\anaconda\\envs\\new_env\\lib\\site-packages (from matplotlib) (0.10.0)\n",
      "Requirement already satisfied: six>=1.5 in c:\\anaconda\\envs\\new_env\\lib\\site-packages (from python-dateutil>=2.1->matplotlib) (1.15.0)\n",
      "Requirement already satisfied: numpy in c:\\anaconda\\envs\\new_env\\lib\\site-packages (1.19.1)\n"
     ]
    },
    {
     "name": "stderr",
     "output_type": "stream",
     "text": [
      "Error processing line 1 of C:\\anaconda\\envs\\new_env\\lib\\site-packages\\matplotlib-3.3.1-py3.7-nspkg.pth:\n",
      "\n",
      "  Traceback (most recent call last):\n",
      "    File \"C:\\anaconda\\envs\\new_env\\lib\\site.py\", line 168, in addpackage\n",
      "      exec(line)\n",
      "    File \"<string>\", line 1, in <module>\n",
      "    File \"<frozen importlib._bootstrap>\", line 580, in module_from_spec\n",
      "  AttributeError: 'NoneType' object has no attribute 'loader'\n",
      "\n",
      "Remainder of file ignored\n"
     ]
    },
    {
     "name": "stdout",
     "output_type": "stream",
     "text": [
      "Requirement already satisfied: opencv-python-headless in c:\\anaconda\\envs\\new_env\\lib\\site-packages (4.4.0.46)\n",
      "Requirement already satisfied: numpy>=1.14.5 in c:\\anaconda\\envs\\new_env\\lib\\site-packages (from opencv-python-headless) (1.19.1)\n"
     ]
    },
    {
     "name": "stderr",
     "output_type": "stream",
     "text": [
      "Error processing line 1 of C:\\anaconda\\envs\\new_env\\lib\\site-packages\\matplotlib-3.3.1-py3.7-nspkg.pth:\n",
      "\n",
      "  Traceback (most recent call last):\n",
      "    File \"C:\\anaconda\\envs\\new_env\\lib\\site.py\", line 168, in addpackage\n",
      "      exec(line)\n",
      "    File \"<string>\", line 1, in <module>\n",
      "    File \"<frozen importlib._bootstrap>\", line 580, in module_from_spec\n",
      "  AttributeError: 'NoneType' object has no attribute 'loader'\n",
      "\n",
      "Remainder of file ignored\n"
     ]
    },
    {
     "name": "stdout",
     "output_type": "stream",
     "text": [
      "Collecting zbar-py\n",
      "  Using cached zbar-py-1.0.4.tar.gz (543 kB)\n",
      "Requirement already satisfied: numpy in c:\\anaconda\\envs\\new_env\\lib\\site-packages (from zbar-py) (1.19.1)\n",
      "Building wheels for collected packages: zbar-py\n",
      "  Building wheel for zbar-py (setup.py): started\n",
      "  Building wheel for zbar-py (setup.py): finished with status 'error'\n",
      "  Running setup.py clean for zbar-py\n",
      "Failed to build zbar-py\n",
      "Installing collected packages: zbar-py\n",
      "    Running setup.py install for zbar-py: started\n",
      "    Running setup.py install for zbar-py: finished with status 'error'\n"
     ]
    },
    {
     "name": "stderr",
     "output_type": "stream",
     "text": [
      "Error processing line 1 of C:\\anaconda\\envs\\new_env\\lib\\site-packages\\matplotlib-3.3.1-py3.7-nspkg.pth:\n",
      "\n",
      "  Traceback (most recent call last):\n",
      "    File \"C:\\anaconda\\envs\\new_env\\lib\\site.py\", line 168, in addpackage\n",
      "      exec(line)\n",
      "    File \"<string>\", line 1, in <module>\n",
      "    File \"<frozen importlib._bootstrap>\", line 580, in module_from_spec\n",
      "  AttributeError: 'NoneType' object has no attribute 'loader'\n",
      "\n",
      "Remainder of file ignored\n",
      "  ERROR: Command errored out with exit status 1:\n",
      "   command: 'C:\\anaconda\\envs\\new_env\\python.exe' -u -c 'import sys, setuptools, tokenize; sys.argv[0] = '\"'\"'C:\\\\Users\\\\oh\\\\AppData\\\\Local\\\\Temp\\\\pip-install-2gpjyqf4\\\\zbar-py\\\\setup.py'\"'\"'; __file__='\"'\"'C:\\\\Users\\\\oh\\\\AppData\\\\Local\\\\Temp\\\\pip-install-2gpjyqf4\\\\zbar-py\\\\setup.py'\"'\"';f=getattr(tokenize, '\"'\"'open'\"'\"', open)(__file__);code=f.read().replace('\"'\"'\\r\\n'\"'\"', '\"'\"'\\n'\"'\"');f.close();exec(compile(code, __file__, '\"'\"'exec'\"'\"'))' bdist_wheel -d 'C:\\Users\\oh\\AppData\\Local\\Temp\\pip-wheel-qdupsfbi'\n",
      "       cwd: C:\\Users\\oh\\AppData\\Local\\Temp\\pip-install-2gpjyqf4\\zbar-py\\\n",
      "  Complete output (22 lines):\n",
      "  Error processing line 1 of C:\\anaconda\\envs\\new_env\\lib\\site-packages\\matplotlib-3.3.1-py3.7-nspkg.pth:\n",
      "  \n",
      "    Traceback (most recent call last):\n",
      "      File \"C:\\anaconda\\envs\\new_env\\lib\\site.py\", line 168, in addpackage\n",
      "        exec(line)\n",
      "      File \"<string>\", line 1, in <module>\n",
      "      File \"<frozen importlib._bootstrap>\", line 580, in module_from_spec\n",
      "    AttributeError: 'NoneType' object has no attribute 'loader'\n",
      "  \n",
      "  Remainder of file ignored\n",
      "  running bdist_wheel\n",
      "  running build\n",
      "  running build_py\n",
      "  creating build\n",
      "  creating build\\lib.win-amd64-3.7\n",
      "  creating build\\lib.win-amd64-3.7\\zbar\n",
      "  copying zbar\\misc.py -> build\\lib.win-amd64-3.7\\zbar\n",
      "  copying zbar\\zbar.py -> build\\lib.win-amd64-3.7\\zbar\n",
      "  copying zbar\\__init__.py -> build\\lib.win-amd64-3.7\\zbar\n",
      "  running build_ext\n",
      "  building 'zbar._zbar' extension\n",
      "  error: Microsoft Visual C++ 14.0 is required. Get it with \"Build Tools for Visual Studio\": https://visualstudio.microsoft.com/downloads/\n",
      "  ----------------------------------------\n",
      "  ERROR: Failed building wheel for zbar-py\n",
      "DEPRECATION: Could not build wheels for zbar-py which do not use PEP 517. pip will fall back to legacy 'setup.py install' for these. pip 21.0 will remove support for this functionality. A possible replacement is to fix the wheel build issue reported above. You can find discussion regarding this at https://github.com/pypa/pip/issues/8368.\n",
      "    ERROR: Command errored out with exit status 1:\n",
      "     command: 'C:\\anaconda\\envs\\new_env\\python.exe' -u -c 'import sys, setuptools, tokenize; sys.argv[0] = '\"'\"'C:\\\\Users\\\\oh\\\\AppData\\\\Local\\\\Temp\\\\pip-install-2gpjyqf4\\\\zbar-py\\\\setup.py'\"'\"'; __file__='\"'\"'C:\\\\Users\\\\oh\\\\AppData\\\\Local\\\\Temp\\\\pip-install-2gpjyqf4\\\\zbar-py\\\\setup.py'\"'\"';f=getattr(tokenize, '\"'\"'open'\"'\"', open)(__file__);code=f.read().replace('\"'\"'\\r\\n'\"'\"', '\"'\"'\\n'\"'\"');f.close();exec(compile(code, __file__, '\"'\"'exec'\"'\"'))' install --record 'C:\\Users\\oh\\AppData\\Local\\Temp\\pip-record-21z8by8d\\install-record.txt' --single-version-externally-managed --compile --install-headers 'C:\\anaconda\\envs\\new_env\\Include\\zbar-py'\n",
      "         cwd: C:\\Users\\oh\\AppData\\Local\\Temp\\pip-install-2gpjyqf4\\zbar-py\\\n",
      "    Complete output (22 lines):\n",
      "    Error processing line 1 of C:\\anaconda\\envs\\new_env\\lib\\site-packages\\matplotlib-3.3.1-py3.7-nspkg.pth:\n",
      "    \n",
      "      Traceback (most recent call last):\n",
      "        File \"C:\\anaconda\\envs\\new_env\\lib\\site.py\", line 168, in addpackage\n",
      "          exec(line)\n",
      "        File \"<string>\", line 1, in <module>\n",
      "        File \"<frozen importlib._bootstrap>\", line 580, in module_from_spec\n",
      "      AttributeError: 'NoneType' object has no attribute 'loader'\n",
      "    \n",
      "    Remainder of file ignored\n",
      "    running install\n",
      "    running build\n",
      "    running build_py\n",
      "    creating build\n",
      "    creating build\\lib.win-amd64-3.7\n",
      "    creating build\\lib.win-amd64-3.7\\zbar\n",
      "    copying zbar\\misc.py -> build\\lib.win-amd64-3.7\\zbar\n",
      "    copying zbar\\zbar.py -> build\\lib.win-amd64-3.7\\zbar\n",
      "    copying zbar\\__init__.py -> build\\lib.win-amd64-3.7\\zbar\n",
      "    running build_ext\n",
      "    building 'zbar._zbar' extension\n",
      "    error: Microsoft Visual C++ 14.0 is required. Get it with \"Build Tools for Visual Studio\": https://visualstudio.microsoft.com/downloads/\n",
      "    ----------------------------------------\n",
      "ERROR: Command errored out with exit status 1: 'C:\\anaconda\\envs\\new_env\\python.exe' -u -c 'import sys, setuptools, tokenize; sys.argv[0] = '\"'\"'C:\\\\Users\\\\oh\\\\AppData\\\\Local\\\\Temp\\\\pip-install-2gpjyqf4\\\\zbar-py\\\\setup.py'\"'\"'; __file__='\"'\"'C:\\\\Users\\\\oh\\\\AppData\\\\Local\\\\Temp\\\\pip-install-2gpjyqf4\\\\zbar-py\\\\setup.py'\"'\"';f=getattr(tokenize, '\"'\"'open'\"'\"', open)(__file__);code=f.read().replace('\"'\"'\\r\\n'\"'\"', '\"'\"'\\n'\"'\"');f.close();exec(compile(code, __file__, '\"'\"'exec'\"'\"'))' install --record 'C:\\Users\\oh\\AppData\\Local\\Temp\\pip-record-21z8by8d\\install-record.txt' --single-version-externally-managed --compile --install-headers 'C:\\anaconda\\envs\\new_env\\Include\\zbar-py' Check the logs for full command output.\n"
     ]
    }
   ],
   "source": [
    "!pip install pyzbar\n",
    "!pip install matplotlib\n",
    "!pip install numpy\n",
    "!pip install opencv-python-headless\n",
    "!pip install zbar-py"
   ]
  },
  {
   "cell_type": "markdown",
   "metadata": {},
   "source": [
    " "
   ]
  },
  {
   "cell_type": "code",
   "execution_count": null,
   "metadata": {},
   "outputs": [],
   "source": [
    "!pip uninstall matplotlib"
   ]
  },
  {
   "cell_type": "markdown",
   "metadata": {},
   "source": [
    "  "
   ]
  },
  {
   "cell_type": "markdown",
   "metadata": {},
   "source": [
    "https://wikidocs.net/48927"
   ]
  },
  {
   "cell_type": "code",
   "execution_count": 5,
   "metadata": {},
   "outputs": [
    {
     "name": "stdout",
     "output_type": "stream",
     "text": [
      "bbanghyong\n",
      "CODE128\n"
     ]
    },
    {
     "data": {
      "text/plain": [
       "<matplotlib.image.AxesImage at 0x2e5301c28c8>"
      ]
     },
     "execution_count": 5,
     "metadata": {},
     "output_type": "execute_result"
    },
    {
     "data": {
      "image/png": "[encoded data removed]",
      "text/plain": [
       "<Figure size 432x288 with 1 Axes>"
      ]
     },
     "metadata": {
      "needs_background": "light"
     },
     "output_type": "display_data"
    }
   ],
   "source": [
    "import pyzbar.pyzbar as pyzbar\n",
    "import cv2\n",
    "import matplotlib.pyplot as plt\n",
    "\n",
    "#img = cv2.imread('img/bh_bar.jpg')\n",
    "import tensorflow as tf\n",
    "#file_path = tf.keras.utils.get_file('youtube.jpg', 'https://github.com/kairess/qrcode_barcode_detection/raw/master/img/bh_bar.jpg')\n",
    "file_path = tf.keras.utils.get_file('bh_bar.jpg', 'https://github.com/kairess/qrcode_barcode_detection/raw/master/img/bh_bar.jpg')\n",
    "img = cv2.imread(file_path)\n",
    "\n",
    "plt.imshow(img)\n",
    "\n",
    "gray = cv2.cvtColor(img, cv2.COLOR_BGR2GRAY)\n",
    "\n",
    "plt.imshow(gray, cmap='gray')\n",
    "\n",
    "decoded = pyzbar.decode(gray)\n",
    "\n",
    "decoded #[Decoded(data=b'bbanghyong', type='CODE128', rect=Rect(left=19, top=10, width=140, height=17), polygon=[Point(x=19, y=11), Point(x=19, y=27), Point(x=159, y=26), Point(x=159, y=10)])]\n",
    "\n",
    "for d in decoded:\n",
    "    print(d.data.decode('utf-8'))\n",
    "    print(d.type)\n",
    "\n",
    "    cv2.rectangle(img, (d.rect[0], d.rect[1]), (d.rect[0] + d.rect[2], d.rect[1] + d.rect[3]), (0, 0, 255), 2)\n",
    "\n",
    "plt.imshow(img)"
   ]
  },
  {
   "cell_type": "markdown",
   "metadata": {},
   "source": [
    " "
   ]
  },
  {
   "cell_type": "markdown",
   "metadata": {},
   "source": [
    "https://ansan-survivor.tistory.com/308"
   ]
  },
  {
   "cell_type": "code",
   "execution_count": 12,
   "metadata": {},
   "outputs": [
    {
     "ename": "NameError",
     "evalue": "name 'decodedObjects' is not defined",
     "output_type": "error",
     "traceback": [
      "\u001b[1;31m---------------------------------------------------------------------------\u001b[0m",
      "\u001b[1;31mNameError\u001b[0m                                 Traceback (most recent call last)",
      "\u001b[1;32m<ipython-input-12-a49733ad969b>\u001b[0m in \u001b[0;36m<module>\u001b[1;34m\u001b[0m\n\u001b[0;32m     43\u001b[0m     \u001b[0mim\u001b[0m \u001b[1;33m=\u001b[0m \u001b[0mcv2\u001b[0m\u001b[1;33m.\u001b[0m\u001b[0mimread\u001b[0m\u001b[1;33m(\u001b[0m\u001b[1;34m'zbar.jpg'\u001b[0m\u001b[1;33m)\u001b[0m\u001b[1;33m\u001b[0m\u001b[1;33m\u001b[0m\u001b[0m\n\u001b[0;32m     44\u001b[0m \u001b[1;33m\u001b[0m\u001b[0m\n\u001b[1;32m---> 45\u001b[1;33m     \u001b[0mdecodedObjects\u001b[0m \u001b[1;33m=\u001b[0m \u001b[0mdecode\u001b[0m\u001b[1;33m(\u001b[0m\u001b[0mim\u001b[0m\u001b[1;33m)\u001b[0m\u001b[1;33m\u001b[0m\u001b[1;33m\u001b[0m\u001b[0m\n\u001b[0m\u001b[0;32m     46\u001b[0m     \u001b[0mdisplay\u001b[0m\u001b[1;33m(\u001b[0m\u001b[0mim\u001b[0m\u001b[1;33m,\u001b[0m \u001b[0mdecodedObjects\u001b[0m\u001b[1;33m)\u001b[0m\u001b[1;33m\u001b[0m\u001b[1;33m\u001b[0m\u001b[0m\n\u001b[0;32m     47\u001b[0m \u001b[1;33m\u001b[0m\u001b[0m\n",
      "\u001b[1;32m<ipython-input-12-a49733ad969b>\u001b[0m in \u001b[0;36mdecode\u001b[1;34m(im)\u001b[0m\n\u001b[0;32m      9\u001b[0m \u001b[1;33m\u001b[0m\u001b[0m\n\u001b[0;32m     10\u001b[0m     \u001b[1;31m# print results\u001b[0m\u001b[1;33m\u001b[0m\u001b[1;33m\u001b[0m\u001b[1;33m\u001b[0m\u001b[0m\n\u001b[1;32m---> 11\u001b[1;33m     \u001b[1;32mfor\u001b[0m \u001b[0mobj\u001b[0m \u001b[1;32min\u001b[0m \u001b[0mdecodedObjects\u001b[0m\u001b[1;33m:\u001b[0m\u001b[1;33m\u001b[0m\u001b[1;33m\u001b[0m\u001b[0m\n\u001b[0m\u001b[0;32m     12\u001b[0m         \u001b[0mprint\u001b[0m\u001b[1;33m(\u001b[0m\u001b[1;34m'Type :'\u001b[0m\u001b[1;33m,\u001b[0m \u001b[0mobj\u001b[0m\u001b[1;33m.\u001b[0m\u001b[0mtype\u001b[0m\u001b[1;33m)\u001b[0m\u001b[1;33m\u001b[0m\u001b[1;33m\u001b[0m\u001b[0m\n\u001b[0;32m     13\u001b[0m         \u001b[0mprint\u001b[0m\u001b[1;33m(\u001b[0m\u001b[1;34m'Data :'\u001b[0m\u001b[1;33m,\u001b[0m \u001b[0mobj\u001b[0m\u001b[1;33m.\u001b[0m\u001b[0mdata\u001b[0m\u001b[1;33m,\u001b[0m \u001b[1;34m'\\n'\u001b[0m\u001b[1;33m)\u001b[0m\u001b[1;33m\u001b[0m\u001b[1;33m\u001b[0m\u001b[0m\n",
      "\u001b[1;31mNameError\u001b[0m: name 'decodedObjects' is not defined"
     ]
    }
   ],
   "source": [
    "import pyzbar.pyzbar as pyzbar # pip install pyzbar\n",
    "import numpy as np             # pip install numpy\n",
    "import cv2                     # pip install opencv-python\n",
    "\n",
    "# 바코드 탐지하는 엔진(바코드 및 QR코드 탐지)\n",
    "def decode(im):\n",
    "    # find barcodes and QRcodes\n",
    "    decodedObejects = pyzbar.decode(im)\n",
    "    \n",
    "    # print results\n",
    "    for obj in decodedObjects:\n",
    "        print('Type :', obj.type)\n",
    "        print('Data :', obj.data, '\\n')\n",
    "        \n",
    "    return decodedObjects\n",
    "\n",
    "# display barcode and QRcode location\n",
    "def display(im,decodedObjects):\n",
    "    # Loop over all decoded objects\n",
    "    for decodedObject in decodedObjects:\n",
    "        points = decodedObject.polygon\n",
    "        \n",
    "        # if the points do not form a quad, find convex hull\n",
    "        if len(points) > 4:\n",
    "            hull = cv2.convexHull(np.array([point for point in points], dtype=np.float32))\n",
    "            hull = list(map(tuple, np.squeeze(hull)))\n",
    "        else:\n",
    "            hull = points;\n",
    "        \n",
    "        # Number the convext hull\n",
    "        n = len(hull)\n",
    "        \n",
    "        for j in range(0,n):\n",
    "            cv2.line(im, hull[(j + 1) % n], (255, 0, 0), 3)\n",
    "            \n",
    "    # display results\n",
    "    cv2.imshow(\"Results\",im0);\n",
    "    cv2.waitKey(0);\n",
    "    \n",
    "# 파일명 zbar.jpg의 이미지에서 바코드를 탐지하면 해당 코드를 리턴\n",
    "# main\n",
    "if __name__ == '__main__':\n",
    "    im = cv2.imread('zbar.jpg')\n",
    "    \n",
    "    decodedObjects = decode(im)\n",
    "    display(im, decodedObjects)\n",
    "    \n"
   ]
  },
  {
   "cell_type": "markdown",
   "metadata": {},
   "source": [
    "https://doit-dev.tistory.com/11"
   ]
  },
  {
   "cell_type": "code",
   "execution_count": 7,
   "metadata": {},
   "outputs": [
    {
     "name": "stdout",
     "output_type": "stream",
     "text": [
      "Decoded Data:http://www.orbyx.com\n"
     ]
    }
   ],
   "source": [
    "import cv2\n",
    "import numpy as np\n",
    "\n",
    "inputImage = cv2.imread(r\"C:\\Users\\oh\\python\\sub\\QR2.jpg\")\n",
    "inputImage = cv2.resize(inputImage, None,fx=0.2,fy=0.2,interpolation=cv2.INTER_AREA)\n",
    "\n",
    "qrDecoder = cv2.QRCodeDetector()\n",
    "\n",
    "#QR코드를 찾고 디코드해줍니다.\n",
    "data,bbox,rectifiedImage = qrDecoder.detectAndDecode(inputImage)\n",
    "if len(data)>0:\n",
    "    print(\"Decoded Data:{}\".format(data))\n",
    "    rectifiedImage = np.uint8(rectifiedImage)\n",
    "    \n",
    "else:\n",
    "    print(\"QR Code not detected\")\n",
    "    "
   ]
  },
  {
   "cell_type": "code",
   "execution_count": 10,
   "metadata": {},
   "outputs": [
    {
     "ename": "ModuleNotFoundError",
     "evalue": "No module named 'zbar'",
     "output_type": "error",
     "traceback": [
      "\u001b[1;31m---------------------------------------------------------------------------\u001b[0m",
      "\u001b[1;31mModuleNotFoundError\u001b[0m                       Traceback (most recent call last)",
      "\u001b[1;32m<ipython-input-10-8324498a9d45>\u001b[0m in \u001b[0;36m<module>\u001b[1;34m\u001b[0m\n\u001b[1;32m----> 1\u001b[1;33m \u001b[1;32mimport\u001b[0m \u001b[0mzbar\u001b[0m\u001b[1;33m\u001b[0m\u001b[1;33m\u001b[0m\u001b[0m\n\u001b[0m\u001b[0;32m      2\u001b[0m \u001b[1;32mimport\u001b[0m \u001b[0mcv2\u001b[0m\u001b[1;33m\u001b[0m\u001b[1;33m\u001b[0m\u001b[0m\n\u001b[0;32m      3\u001b[0m \u001b[1;33m\u001b[0m\u001b[0m\n\u001b[0;32m      4\u001b[0m \u001b[0mfile_path\u001b[0m \u001b[1;33m=\u001b[0m \u001b[1;34m\"image/QR2.jpg\"\u001b[0m\u001b[1;33m\u001b[0m\u001b[1;33m\u001b[0m\u001b[0m\n\u001b[0;32m      5\u001b[0m \u001b[1;33m\u001b[0m\u001b[0m\n",
      "\u001b[1;31mModuleNotFoundError\u001b[0m: No module named 'zbar'"
     ]
    }
   ],
   "source": [
    "import zbar\n",
    "import cv2\n",
    " \n",
    "file_path = \"image/QR2.jpg\"\n",
    " \n",
    "# Zbar 라이브러리로 QR코드를 인식하기위해서 opcnCV로 이미지를 그레이 스케일로 읽어옵니다\n",
    "im = cv2.imread(file_path, cv2.IMREAD_GRAYSCALE)\n",
    " \n",
    " \n",
    "qrcode_data = \"\"\n",
    " \n",
    "#Zbar는 다중 QR 검출도 가능합니다\n",
    "#인식된 QR 데이터들을 가져옵니다\n",
    "scanner = zbar.Scanner()\n",
    "results = scanner.scan(im)\n",
    "for result in results:\n",
    "    qrcode_data = result.data\n",
    " \n",
    "# QR 코드가 인식이 되지 않았다면\n",
    "# QR Code not detected\n",
    "if(qrcode_data==\"null\"):\n",
    "    print(\"QR Code not detected\")\n",
    "else:\n",
    "    # QR 코드가 인식이 되었다면\n",
    "    # 인식된 QR 코드의 데이터를 출력해준다\n",
    "   print(\"Decoded Data : {}\".format(qrcode_data))"
   ]
  },
  {
   "cell_type": "code",
   "execution_count": 11,
   "metadata": {},
   "outputs": [
    {
     "ename": "ValueError",
     "evalue": "too many values to unpack (expected 3)",
     "output_type": "error",
     "traceback": [
      "\u001b[1;31m---------------------------------------------------------------------------\u001b[0m",
      "\u001b[1;31mValueError\u001b[0m                                Traceback (most recent call last)",
      "\u001b[1;32m<ipython-input-11-903c8a8a5c2e>\u001b[0m in \u001b[0;36m<module>\u001b[1;34m\u001b[0m\n\u001b[0;32m     13\u001b[0m \u001b[1;31m#Zbar는 다중 QR 검출도 가능합니다\u001b[0m\u001b[1;33m\u001b[0m\u001b[1;33m\u001b[0m\u001b[1;33m\u001b[0m\u001b[0m\n\u001b[0;32m     14\u001b[0m \u001b[1;31m#인식된 QR 데이터들을 가져옵니다\u001b[0m\u001b[1;33m\u001b[0m\u001b[1;33m\u001b[0m\u001b[1;33m\u001b[0m\u001b[0m\n\u001b[1;32m---> 15\u001b[1;33m \u001b[0mscanner\u001b[0m \u001b[1;33m=\u001b[0m \u001b[0mpyzbar\u001b[0m\u001b[1;33m.\u001b[0m\u001b[0mdecode\u001b[0m\u001b[1;33m(\u001b[0m\u001b[0mim\u001b[0m\u001b[1;33m)\u001b[0m\u001b[1;33m\u001b[0m\u001b[1;33m\u001b[0m\u001b[0m\n\u001b[0m\u001b[0;32m     16\u001b[0m \u001b[1;32mfor\u001b[0m \u001b[0mresult\u001b[0m \u001b[1;32min\u001b[0m \u001b[0mresults\u001b[0m\u001b[1;33m:\u001b[0m\u001b[1;33m\u001b[0m\u001b[1;33m\u001b[0m\u001b[0m\n\u001b[0;32m     17\u001b[0m     \u001b[0mqrcode_data\u001b[0m \u001b[1;33m=\u001b[0m \u001b[0mresult\u001b[0m\u001b[1;33m.\u001b[0m\u001b[0mdata\u001b[0m\u001b[1;33m\u001b[0m\u001b[1;33m\u001b[0m\u001b[0m\n",
      "\u001b[1;32mC:\\anaconda\\envs\\new_env\\lib\\site-packages\\pyzbar\\pyzbar.py\u001b[0m in \u001b[0;36mdecode\u001b[1;34m(image, symbols)\u001b[0m\n\u001b[0;32m    179\u001b[0m         \u001b[1;33m:\u001b[0m\u001b[0mobj\u001b[0m\u001b[1;33m:\u001b[0m\u001b[0;31m`\u001b[0m\u001b[0mlist\u001b[0m\u001b[0;31m`\u001b[0m \u001b[0mof\u001b[0m \u001b[1;33m:\u001b[0m\u001b[0mobj\u001b[0m\u001b[1;33m:\u001b[0m\u001b[0;31m`\u001b[0m\u001b[0mDecoded\u001b[0m\u001b[0;31m`\u001b[0m\u001b[1;33m:\u001b[0m \u001b[0mThe\u001b[0m \u001b[0mvalues\u001b[0m \u001b[0mdecoded\u001b[0m \u001b[1;32mfrom\u001b[0m \u001b[0mbarcodes\u001b[0m\u001b[1;33m.\u001b[0m\u001b[1;33m\u001b[0m\u001b[1;33m\u001b[0m\u001b[0m\n\u001b[0;32m    180\u001b[0m     \"\"\"\n\u001b[1;32m--> 181\u001b[1;33m     \u001b[0mpixels\u001b[0m\u001b[1;33m,\u001b[0m \u001b[0mwidth\u001b[0m\u001b[1;33m,\u001b[0m \u001b[0mheight\u001b[0m \u001b[1;33m=\u001b[0m \u001b[0m_pixel_data\u001b[0m\u001b[1;33m(\u001b[0m\u001b[0mimage\u001b[0m\u001b[1;33m)\u001b[0m\u001b[1;33m\u001b[0m\u001b[1;33m\u001b[0m\u001b[0m\n\u001b[0m\u001b[0;32m    182\u001b[0m \u001b[1;33m\u001b[0m\u001b[0m\n\u001b[0;32m    183\u001b[0m     \u001b[0mresults\u001b[0m \u001b[1;33m=\u001b[0m \u001b[1;33m[\u001b[0m\u001b[1;33m]\u001b[0m\u001b[1;33m\u001b[0m\u001b[1;33m\u001b[0m\u001b[0m\n",
      "\u001b[1;32mC:\\anaconda\\envs\\new_env\\lib\\site-packages\\pyzbar\\pyzbar.py\u001b[0m in \u001b[0;36m_pixel_data\u001b[1;34m(image)\u001b[0m\n\u001b[0;32m    145\u001b[0m     \u001b[1;32melse\u001b[0m\u001b[1;33m:\u001b[0m\u001b[1;33m\u001b[0m\u001b[1;33m\u001b[0m\u001b[0m\n\u001b[0;32m    146\u001b[0m         \u001b[1;31m# image should be a tuple (pixels, width, height)\u001b[0m\u001b[1;33m\u001b[0m\u001b[1;33m\u001b[0m\u001b[1;33m\u001b[0m\u001b[0m\n\u001b[1;32m--> 147\u001b[1;33m         \u001b[0mpixels\u001b[0m\u001b[1;33m,\u001b[0m \u001b[0mwidth\u001b[0m\u001b[1;33m,\u001b[0m \u001b[0mheight\u001b[0m \u001b[1;33m=\u001b[0m \u001b[0mimage\u001b[0m\u001b[1;33m\u001b[0m\u001b[1;33m\u001b[0m\u001b[0m\n\u001b[0m\u001b[0;32m    148\u001b[0m \u001b[1;33m\u001b[0m\u001b[0m\n\u001b[0;32m    149\u001b[0m         \u001b[1;31m# Check dimensions\u001b[0m\u001b[1;33m\u001b[0m\u001b[1;33m\u001b[0m\u001b[1;33m\u001b[0m\u001b[0m\n",
      "\u001b[1;31mValueError\u001b[0m: too many values to unpack (expected 3)"
     ]
    }
   ],
   "source": [
    "import pyzbar.pyzbar as pyzbar\n",
    "import cv2\n",
    "import tensorflow as tf\n",
    " \n",
    "file_path = \"image/QR2.jpg\"\n",
    " \n",
    "# Zbar 라이브러리로 QR코드를 인식하기위해서 opcnCV로 이미지를 그레이 스케일로 읽어옵니다\n",
    "im = tf.keras.utils.get_file('bh_bar.jpg', 'https://github.com/kairess/qrcode_barcode_detection/raw/master/img/bh_bar.jpg')\n",
    " \n",
    " \n",
    "qrcode_data = \"\"\n",
    " \n",
    "#Zbar는 다중 QR 검출도 가능합니다\n",
    "#인식된 QR 데이터들을 가져옵니다\n",
    "scanner = pyzbar.decode(im)\n",
    "for result in results:\n",
    "    qrcode_data = result.data\n",
    " \n",
    "# QR 코드가 인식이 되지 않았다면\n",
    "# QR Code not detected\n",
    "if(qrcode_data==\"null\"):\n",
    "    print(\"QR Code not detected\")\n",
    "else:\n",
    "    # QR 코드가 인식이 되었다면\n",
    "    # 인식된 QR 코드의 데이터를 출력해준다\n",
    "   print(\"Decoded Data : {}\".format(qrcode_data))"
   ]
  },
  {
   "cell_type": "code",
   "execution_count": null,
   "metadata": {},
   "outputs": [],
   "source": []
  }
 ],
 "metadata": {
  "kernelspec": {
   "display_name": "Python 3",
   "language": "python",
   "name": "python3"
  },
  "language_info": {
   "codemirror_mode": {
    "name": "ipython",
    "version": 3
   },
   "file_extension": ".py",
   "mimetype": "text/x-python",
   "name": "python",
   "nbconvert_exporter": "python",
   "pygments_lexer": "ipython3",
   "version": "3.7.7"
  }
 },
 "nbformat": 4,
 "nbformat_minor": 4
}
